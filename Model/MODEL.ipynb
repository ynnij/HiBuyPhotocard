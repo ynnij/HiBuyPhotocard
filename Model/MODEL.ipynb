{
 "cells": [
  {
   "cell_type": "code",
   "execution_count": 1,
   "metadata": {
    "colab": {
     "base_uri": "https://localhost:8080/"
    },
    "executionInfo": {
     "elapsed": 11,
     "status": "ok",
     "timestamp": 1633772696264,
     "user": {
      "displayName": "­박소현(엘텍공과대학 소프트웨어학부)",
      "photoUrl": "https://lh3.googleusercontent.com/a/default-user=s64",
      "userId": "02279727561237862607"
     },
     "user_tz": -540
    },
    "id": "kIbs4ZTycDz7",
    "outputId": "668bf975-de4b-40f9-f212-c6f7d6b86212"
   },
   "outputs": [
    {
     "name": "stdout",
     "output_type": "stream",
     "text": [
      "Tue Dec  7 14:28:09 2021       \n",
      "+-----------------------------------------------------------------------------+\n",
      "| NVIDIA-SMI 471.41       Driver Version: 471.41       CUDA Version: 11.4     |\n",
      "|-------------------------------+----------------------+----------------------+\n",
      "| GPU  Name            TCC/WDDM | Bus-Id        Disp.A | Volatile Uncorr. ECC |\n",
      "| Fan  Temp  Perf  Pwr:Usage/Cap|         Memory-Usage | GPU-Util  Compute M. |\n",
      "|                               |                      |               MIG M. |\n",
      "|===============================+======================+======================|\n",
      "|   0  NVIDIA GeForce ... WDDM  | 00000000:01:00.0  On |                  N/A |\n",
      "| N/A   40C    P8    14W /  N/A |    442MiB /  8192MiB |      3%      Default |\n",
      "|                               |                      |                  N/A |\n",
      "+-------------------------------+----------------------+----------------------+\n",
      "                                                                               \n",
      "+-----------------------------------------------------------------------------+\n",
      "| Processes:                                                                  |\n",
      "|  GPU   GI   CI        PID   Type   Process name                  GPU Memory |\n",
      "|        ID   ID                                                   Usage      |\n",
      "|=============================================================================|\n",
      "|    0   N/A  N/A       936    C+G   ...kyb3d8bbwe\\Calculator.exe    N/A      |\n",
      "|    0   N/A  N/A      1208    C+G   ...me\\Application\\chrome.exe    N/A      |\n",
      "|    0   N/A  N/A      5620    C+G   ...8wekyb3d8bbwe\\Cortana.exe    N/A      |\n",
      "|    0   N/A  N/A      6904    C+G   ...artMenuExperienceHost.exe    N/A      |\n",
      "|    0   N/A  N/A      7080    C+G   Insufficient Permissions        N/A      |\n",
      "|    0   N/A  N/A      8096    C+G   ...5n1h2txyewy\\SearchApp.exe    N/A      |\n",
      "|    0   N/A  N/A      8760    C+G   ...ekyb3d8bbwe\\YourPhone.exe    N/A      |\n",
      "|    0   N/A  N/A      8996    C+G   ...nputApp\\TextInputHost.exe    N/A      |\n",
      "|    0   N/A  N/A     10456    C+G   ...wekyb3d8bbwe\\Video.UI.exe    N/A      |\n",
      "|    0   N/A  N/A     14008    C+G   ...ge\\Application\\msedge.exe    N/A      |\n",
      "|    0   N/A  N/A     14956    C+G   ...y\\ShellExperienceHost.exe    N/A      |\n",
      "|    0   N/A  N/A     16520    C+G   ...perience\\NVIDIA Share.exe    N/A      |\n",
      "|    0   N/A  N/A     16696    C+G   C:\\Windows\\explorer.exe         N/A      |\n",
      "+-----------------------------------------------------------------------------+\n"
     ]
    }
   ],
   "source": [
    "!nvidia-smi"
   ]
  },
  {
   "cell_type": "code",
   "execution_count": 2,
   "metadata": {},
   "outputs": [
    {
     "name": "stdout",
     "output_type": "stream",
     "text": [
      "Requirement already satisfied: torch in c:\\users\\cyber\\anaconda3\\envs\\tensor\\lib\\site-packages (1.10.0)\n",
      "Requirement already satisfied: typing-extensions in c:\\users\\cyber\\anaconda3\\envs\\tensor\\lib\\site-packages (from torch) (3.7.4.3)\n",
      "Note: you may need to restart the kernel to use updated packages.\n"
     ]
    }
   ],
   "source": [
    "pip install torch"
   ]
  },
  {
   "cell_type": "code",
   "execution_count": 3,
   "metadata": {},
   "outputs": [],
   "source": [
    "import torch, gc\n",
    "gc.collect()\n",
    "torch.cuda.empty_cache()"
   ]
  },
  {
   "cell_type": "code",
   "execution_count": 4,
   "metadata": {
    "colab": {
     "base_uri": "https://localhost:8080/"
    },
    "executionInfo": {
     "elapsed": 7577,
     "status": "ok",
     "timestamp": 1633772708049,
     "user": {
      "displayName": "­박소현(엘텍공과대학 소프트웨어학부)",
      "photoUrl": "https://lh3.googleusercontent.com/a/default-user=s64",
      "userId": "02279727561237862607"
     },
     "user_tz": -540
    },
    "id": "0yPCAe1OcFMJ",
    "outputId": "87904956-ecc8-4131-dcf4-7fe9f757490b"
   },
   "outputs": [
    {
     "data": {
      "text/plain": [
       "[name: \"/device:CPU:0\"\n",
       " device_type: \"CPU\"\n",
       " memory_limit: 268435456\n",
       " locality {\n",
       " }\n",
       " incarnation: 18195359826083891246,\n",
       " name: \"/device:GPU:0\"\n",
       " device_type: \"GPU\"\n",
       " memory_limit: 6298796032\n",
       " locality {\n",
       "   bus_id: 1\n",
       "   links {\n",
       "   }\n",
       " }\n",
       " incarnation: 713957353599095406\n",
       " physical_device_desc: \"device: 0, name: NVIDIA GeForce RTX 2070, pci bus id: 0000:01:00.0, compute capability: 7.5\"]"
      ]
     },
     "execution_count": 4,
     "metadata": {},
     "output_type": "execute_result"
    }
   ],
   "source": [
    "from tensorflow.python.client import device_lib\n",
    "device_lib.list_local_devices()"
   ]
  },
  {
   "cell_type": "code",
   "execution_count": 5,
   "metadata": {
    "colab": {
     "base_uri": "https://localhost:8080/"
    },
    "executionInfo": {
     "elapsed": 243,
     "status": "ok",
     "timestamp": 1633772718560,
     "user": {
      "displayName": "­박소현(엘텍공과대학 소프트웨어학부)",
      "photoUrl": "https://lh3.googleusercontent.com/a/default-user=s64",
      "userId": "02279727561237862607"
     },
     "user_tz": -540
    },
    "id": "dCWepUGIcQHc",
    "outputId": "7b427b71-c18a-4089-f0f6-48c99e243a6f"
   },
   "outputs": [
    {
     "name": "stdout",
     "output_type": "stream",
     "text": [
      "2.6.0\n"
     ]
    },
    {
     "data": {
      "text/plain": [
       "[PhysicalDevice(name='/physical_device:GPU:0', device_type='GPU')]"
      ]
     },
     "execution_count": 5,
     "metadata": {},
     "output_type": "execute_result"
    }
   ],
   "source": [
    "import tensorflow as tf \n",
    "print(tf.__version__) \n",
    "tf.config.list_physical_devices('GPU')"
   ]
  },
  {
   "cell_type": "code",
   "execution_count": 6,
   "metadata": {},
   "outputs": [
    {
     "name": "stdout",
     "output_type": "stream",
     "text": [
      "Found 40104 files belonging to 1002 classes.\n"
     ]
    }
   ],
   "source": [
    "import sklearn\n",
    "from tensorflow.keras.applications import ResNet50\n",
    "from tensorflow.keras.applications import imagenet_utils\n",
    "from keras.preprocessing.image import img_to_array\n",
    "from keras.preprocessing.image import load_img\n",
    "import numpy as np\n",
    "from sklearn.model_selection import train_test_split\n",
    "from PIL import Image\n",
    "import matplotlib.pyplot as plt\n",
    "import glob\n",
    "import os\n",
    "\n",
    "from keras.preprocessing.image import ImageDataGenerator\n",
    "from tensorflow.keras.preprocessing import image_dataset_from_directory\n",
    "\n",
    "import matplotlib.pyplot as plt\n",
    "import h5py\n",
    "import numpy as np\n",
    "\n",
    "data_generator = ImageDataGenerator(rescale=1./255)\n",
    "\n",
    "train_generator = image_dataset_from_directory(\n",
    "    './split/train4',\n",
    "     image_size=(64,64)\n",
    ")\n"
   ]
  },
  {
   "cell_type": "code",
   "execution_count": 7,
   "metadata": {},
   "outputs": [],
   "source": [
    "model = ResNet50(weights=\"imagenet\")"
   ]
  },
  {
   "cell_type": "code",
   "execution_count": 8,
   "metadata": {},
   "outputs": [],
   "source": [
    "data_dir = './split/train4'"
   ]
  },
  {
   "cell_type": "code",
   "execution_count": null,
   "metadata": {},
   "outputs": [],
   "source": [
    "class_names = train_generator.class_names\n",
    "\n",
    "\n",
    "for i, v in enumerate(class_names) :\n",
    "    print(v)\n"
   ]
  },
  {
   "cell_type": "code",
   "execution_count": 30,
   "metadata": {},
   "outputs": [],
   "source": [
    "categories = class_names\n",
    "nb_class=len(categories)\n"
   ]
  },
  {
   "cell_type": "code",
   "execution_count": 31,
   "metadata": {},
   "outputs": [
    {
     "name": "stdout",
     "output_type": "stream",
     "text": [
      "[0, 0, 0, 0, 0, 0, 0, 0, 0, 0, 0, 0, 0, 0, 0, 0, 0, 0, 0, 0, 0, 0, 0, 0, 0, 0, 0, 0, 0, 0, 0, 0, 0, 0, 0, 0, 0, 0, 0, 0, 0, 0, 0, 0, 0, 0, 0, 0, 0, 0, 0, 0, 0, 0, 0, 0, 0, 0, 0, 0, 0, 0, 0, 0, 0, 0, 0, 0, 0, 0, 0, 0, 0, 0, 0, 0, 0, 0, 0, 0, 0, 0, 0, 0, 0, 0, 0, 0, 0, 0, 0, 0, 0, 0, 0, 0, 0, 0, 0, 0, 0, 0, 0, 0, 0, 0, 0, 0, 0, 0, 0, 0, 0, 0, 0, 0, 0, 0, 0, 0, 0, 0, 0, 0, 0, 0, 0, 0, 0, 0, 0, 0, 0, 0, 0, 0, 0, 0, 0, 0, 0, 0, 0, 0, 0, 0, 0, 0, 0, 0, 0, 0, 0, 0, 0, 0, 0, 0, 0, 0, 0, 0, 0, 0, 0, 0, 0, 0, 0, 0, 0, 0, 0, 0, 0, 0, 0, 0, 0, 0, 0, 0, 0, 0, 0, 0, 0, 0, 0, 0, 0, 0, 0, 0, 0, 0, 0, 0, 0, 0, 0, 0, 0, 0, 0, 0, 0, 0, 0, 0, 0, 0, 0, 0, 0, 0, 0, 0, 0, 0, 0, 0, 0, 0, 0, 0, 0, 0, 0, 0, 0, 0, 0, 0, 0, 0, 0, 0, 0, 0, 0, 0, 0, 0, 0, 0, 0, 0, 0, 0, 0, 0, 0, 0, 0, 0, 0, 0, 0, 0, 0, 0, 0, 0, 0, 0, 0, 0, 0, 0, 0, 0, 0, 0, 0, 0, 0, 0, 0, 0, 0, 0, 0, 0, 0, 0, 0, 0, 0, 0, 0, 0, 0, 0, 0, 0, 0, 0, 0, 0, 0, 0, 0, 0, 0, 0, 0, 0, 0, 0, 0, 0, 0, 0, 0, 0, 0, 0, 0, 0, 0, 0, 0, 0, 0, 0, 0, 0, 0, 0, 0, 0, 0, 0, 0, 0, 0, 0, 0, 0, 0, 0, 0, 0, 0, 0, 0, 0, 0, 0, 0, 0, 0, 0, 0, 0, 0, 0, 0, 0, 0, 0, 0, 0, 0, 0, 0, 0, 0, 0, 0, 0, 0, 0, 0, 0, 0, 0, 0, 0, 0, 0, 0, 0, 0, 0, 0, 0, 0, 0, 0, 0, 0, 0, 0, 0, 0, 0, 0, 0, 0, 0, 0, 0, 0, 0, 0, 0, 0, 0, 0, 0, 0, 0, 0, 0, 0, 0, 0, 0, 0, 0, 0, 0, 0, 0, 0, 0, 0, 0, 0, 0, 0, 0, 0, 0, 0, 0, 0, 0, 0, 0, 0, 0, 0, 0, 0, 0, 0, 0, 0, 0, 0, 0, 0, 0, 0, 0, 0, 0, 0, 0, 0, 0, 0, 0, 0, 0, 0, 0, 0, 0, 0, 0, 0, 0, 0, 0, 0, 0, 0, 0, 0, 0, 0, 0, 0, 0, 0, 0, 0, 0, 0, 0, 0, 0, 0, 0, 0, 0, 0, 0, 0, 0, 0, 0, 0, 0, 0, 0, 0, 0, 0, 0, 0, 0, 0, 0, 0, 0, 0, 0, 0, 0, 0, 0, 0, 0, 0, 0, 0, 0, 0, 0, 0, 0, 0, 0, 0, 0, 0, 0, 0, 0, 0, 0, 0, 0, 0, 0, 0, 0, 0, 0, 0, 0, 0, 0, 0, 0, 0, 0, 0, 0, 0, 0, 0, 0, 0, 0, 0, 0, 0, 0, 0, 0, 0, 0, 0, 0, 0, 0, 0, 0, 0, 0, 0, 0, 0, 0, 0, 0, 0, 0, 0, 0, 0, 0, 0, 0, 0, 0, 0, 0, 0, 0, 0, 0, 0, 0, 0, 0, 0, 0, 0, 0, 0, 0, 0, 0, 0, 0, 0, 0, 0, 0, 0, 0, 0, 0, 0, 0, 0, 0, 0, 0, 0, 0, 0, 0, 0, 0, 0, 0, 0, 0, 0, 0, 0, 0, 0, 0, 0, 0, 0, 0, 0, 0, 0, 0, 0, 0, 0, 0, 0, 0, 0, 0, 0, 0, 0, 0, 0, 0, 0, 0, 0, 0, 0, 0, 0, 0, 0, 0, 0, 0, 0, 0, 0, 0, 0, 0, 0, 0, 0, 0, 0, 0, 0, 0, 0, 0, 0, 0, 0, 0, 0, 0, 0, 0, 0, 0, 0, 0, 0, 0, 0, 0, 0, 0, 0, 0, 0, 0, 0, 0, 0, 0, 0, 0, 0, 0, 0, 0, 0, 0, 0, 0, 0, 0, 0, 0, 0, 0, 0, 0, 0, 0, 0, 0, 0, 0, 0, 0, 0, 0, 0, 0, 0, 0, 0, 0, 0, 0, 0, 0, 0, 0, 0, 0, 0, 0, 0, 0, 0, 0, 0, 0, 0, 0, 0, 0, 0, 0, 0, 0, 0, 0, 0, 0, 0, 0, 0, 0, 0, 0, 0, 0, 0, 0, 0, 0, 0, 0, 0, 0, 0, 0, 0, 0, 0, 0, 0, 0, 0, 0, 0, 0, 0, 0, 0, 0, 0, 0, 0, 0, 0, 0, 0, 0, 0, 0, 0, 0, 0, 0, 0, 0, 0, 0, 0, 0, 0, 0, 0, 0, 0, 0, 0, 0, 0, 0, 0, 0, 0, 0, 0, 0, 0, 0, 0, 0, 0, 0, 0, 0, 0, 0, 0, 0, 0, 0, 0, 0, 0, 0, 0, 0, 0, 0, 0, 0, 0, 0, 0, 0, 0, 0, 0, 0, 0, 0, 0, 0, 0, 0, 0, 0, 0, 0, 0, 0, 0, 0, 0, 0, 0, 0, 0, 0, 0, 0, 0, 0, 0, 0, 0, 0, 0, 0, 0, 0, 0, 0, 0, 0, 0, 0, 0, 0, 0, 0, 0, 0, 0, 0, 0, 0, 0, 0, 0, 0, 0, 0, 0, 0, 0, 0, 0, 0, 0, 0, 0, 0, 0, 0, 0, 0, 0, 0, 0, 0, 0, 0, 0, 0, 0, 0, 0, 0, 0, 0, 0, 0, 0, 0, 0, 0, 0, 0, 0, 0, 0, 0, 0, 0, 0, 0, 0, 0, 0, 0, 0, 0, 0, 0, 0, 0, 0, 0, 0, 1]\n"
     ]
    }
   ],
   "source": [
    "x = []\n",
    "y = []\n",
    "# 폴더안에 있는 데이터 다 가져오기\n",
    "# enumerate() : 리스트의 순서와 값 반환\n",
    "for idx, c in enumerate(categories):\n",
    "    label = [0 for i in range(nb_class)]\n",
    "    label[idx] = 1\n",
    "    image_dir = data_dir+\"/\"+c\n",
    "    files = glob.glob(image_dir+\"/*.*\")\n",
    "    # print(files)\n",
    "    # 파일안에 있는 이미지 오픈해서 어레이값으로 변경\n",
    "    for i, f in enumerate(files):\n",
    "        img = Image.open(f)\n",
    "        img = img.convert(\"RGB\")\n",
    "        img = img.resize((64,64))\n",
    "        data = np.asarray(img)\n",
    "        x.append(data)\n",
    "        y.append(label)\n",
    "        \n",
    "print(label)"
   ]
  },
  {
   "cell_type": "code",
   "execution_count": 32,
   "metadata": {},
   "outputs": [
    {
     "data": {
      "text/plain": [
       "(40104, 64, 64, 3)"
      ]
     },
     "execution_count": 32,
     "metadata": {},
     "output_type": "execute_result"
    }
   ],
   "source": [
    "x = np.array(x)\n",
    "x.shape\n"
   ]
  },
  {
   "cell_type": "code",
   "execution_count": 33,
   "metadata": {},
   "outputs": [
    {
     "data": {
      "text/plain": [
       "(40104, 1002)"
      ]
     },
     "execution_count": 33,
     "metadata": {},
     "output_type": "execute_result"
    }
   ],
   "source": [
    "y = np.array(y)\n",
    "y.shape\n"
   ]
  },
  {
   "cell_type": "code",
   "execution_count": 35,
   "metadata": {},
   "outputs": [],
   "source": [
    "X_train, X_test, Y_train,Y_test = train_test_split(x, y, test_size=0.3)"
   ]
  },
  {
   "cell_type": "code",
   "execution_count": 36,
   "metadata": {},
   "outputs": [],
   "source": [
    "image_data = (X_train, X_test, Y_train,Y_test)\n",
    "np.save(\"./cats_dogs_image_data.npy\",image_data)"
   ]
  },
  {
   "cell_type": "code",
   "execution_count": 37,
   "metadata": {},
   "outputs": [],
   "source": [
    "X_train, X_test, Y_train,Y_test = np.load(\"./cats_dogs_image_data.npy\",allow_pickle=True)"
   ]
  },
  {
   "cell_type": "code",
   "execution_count": 38,
   "metadata": {},
   "outputs": [],
   "source": [
    "import tensorflow as tf\n",
    "import matplotlib.pyplot as plt\n",
    "import h5py\n",
    "import numpy as np"
   ]
  },
  {
   "cell_type": "code",
   "execution_count": 39,
   "metadata": {},
   "outputs": [
    {
     "name": "stdout",
     "output_type": "stream",
     "text": [
      "Model: \"sequential_1\"\n",
      "_________________________________________________________________\n",
      "Layer (type)                 Output Shape              Param #   \n",
      "=================================================================\n",
      "resnet50 (Functional)        (None, 1002)              25640810  \n",
      "=================================================================\n",
      "Total params: 25,640,810\n",
      "Trainable params: 25,587,690\n",
      "Non-trainable params: 53,120\n",
      "_________________________________________________________________\n"
     ]
    }
   ],
   "source": [
    "from tensorflow.keras.applications import ResNet50\n",
    "from tensorflow.keras.models import Sequential\n",
    "from tensorflow.keras import layers\n",
    "\n",
    "model = Sequential()\n",
    "model.add(ResNet50(include_top=True, weights=None, input_shape=(64, 64, 3), classes=1002))\n",
    "\n",
    "model.summary()"
   ]
  },
  {
   "cell_type": "code",
   "execution_count": 40,
   "metadata": {},
   "outputs": [],
   "source": [
    "model.compile(optimizer = 'adam', \n",
    "              loss = 'binary_crossentropy', \n",
    "              metrics = ['acc'])"
   ]
  },
  {
   "cell_type": "code",
   "execution_count": 41,
   "metadata": {},
   "outputs": [
    {
     "name": "stdout",
     "output_type": "stream",
     "text": [
      "Epoch 1/30\n",
      "878/878 [==============================] - 63s 62ms/step - loss: 0.0090 - acc: 0.0202 - val_loss: 0.0069 - val_acc: 0.0480\n",
      "Epoch 2/30\n",
      "878/878 [==============================] - 54s 61ms/step - loss: 0.0025 - acc: 0.6184 - val_loss: 0.0013 - val_acc: 0.8532\n",
      "Epoch 3/30\n",
      "878/878 [==============================] - 53s 61ms/step - loss: 5.5553e-04 - acc: 0.9528 - val_loss: 8.0151e-04 - val_acc: 0.9222\n",
      "Epoch 4/30\n",
      "878/878 [==============================] - 53s 61ms/step - loss: 4.3511e-04 - acc: 0.9684 - val_loss: 9.6665e-04 - val_acc: 0.9112\n",
      "Epoch 5/30\n",
      "878/878 [==============================] - 54s 61ms/step - loss: 3.2347e-04 - acc: 0.9769 - val_loss: 6.6266e-04 - val_acc: 0.9417\n",
      "Epoch 6/30\n",
      "878/878 [==============================] - 53s 60ms/step - loss: 2.8004e-04 - acc: 0.9812 - val_loss: 6.5403e-04 - val_acc: 0.9446\n",
      "Epoch 7/30\n",
      "878/878 [==============================] - 53s 60ms/step - loss: 2.0247e-04 - acc: 0.9875 - val_loss: 2.6476e-04 - val_acc: 0.9830\n",
      "Epoch 8/30\n",
      "878/878 [==============================] - 52s 59ms/step - loss: 1.7797e-04 - acc: 0.9896 - val_loss: 1.4849e-04 - val_acc: 0.9916\n",
      "Epoch 9/30\n",
      "878/878 [==============================] - 52s 59ms/step - loss: 1.4472e-04 - acc: 0.9922 - val_loss: 6.3509e-04 - val_acc: 0.9512\n",
      "Epoch 10/30\n",
      "878/878 [==============================] - 53s 60ms/step - loss: 1.2156e-04 - acc: 0.9936 - val_loss: 2.9560e-04 - val_acc: 0.9800\n",
      "Epoch 11/30\n",
      "878/878 [==============================] - 52s 60ms/step - loss: 8.1350e-05 - acc: 0.9956 - val_loss: 1.1736e-04 - val_acc: 0.9937\n",
      "Epoch 12/30\n",
      "878/878 [==============================] - 53s 60ms/step - loss: 1.3262e-04 - acc: 0.9931 - val_loss: 6.1752e-05 - val_acc: 0.9963\n",
      "Epoch 13/30\n",
      "878/878 [==============================] - 53s 60ms/step - loss: 5.5808e-05 - acc: 0.9967 - val_loss: 5.7099e-05 - val_acc: 0.9964\n",
      "Epoch 14/30\n",
      "878/878 [==============================] - 53s 60ms/step - loss: 7.3258e-05 - acc: 0.9964 - val_loss: 1.5459e-04 - val_acc: 0.9897\n",
      "Epoch 15/30\n",
      "878/878 [==============================] - 53s 60ms/step - loss: 5.8218e-05 - acc: 0.9970 - val_loss: 3.7586e-05 - val_acc: 0.9973\n",
      "Epoch 16/30\n",
      "878/878 [==============================] - 53s 60ms/step - loss: 4.7506e-05 - acc: 0.9970 - val_loss: 1.4959e-04 - val_acc: 0.9902\n",
      "Epoch 17/30\n",
      "878/878 [==============================] - 53s 60ms/step - loss: 3.2433e-05 - acc: 0.9980 - val_loss: 3.2698e-05 - val_acc: 0.9983\n",
      "Epoch 18/30\n",
      "878/878 [==============================] - 52s 60ms/step - loss: 5.0508e-05 - acc: 0.9974 - val_loss: 1.2491e-04 - val_acc: 0.9919\n",
      "Epoch 19/30\n",
      "878/878 [==============================] - 53s 60ms/step - loss: 2.2421e-05 - acc: 0.9983 - val_loss: 2.5178e-04 - val_acc: 0.9868\n",
      "Epoch 20/30\n",
      "878/878 [==============================] - 53s 60ms/step - loss: 2.5901e-05 - acc: 0.9983 - val_loss: 6.4069e-04 - val_acc: 0.9580\n",
      "Epoch 21/30\n",
      "878/878 [==============================] - 53s 60ms/step - loss: 3.5848e-05 - acc: 0.9981 - val_loss: 2.2791e-05 - val_acc: 0.9983\n",
      "Epoch 22/30\n",
      "878/878 [==============================] - 52s 60ms/step - loss: 5.5644e-06 - acc: 0.9994 - val_loss: 3.4979e-05 - val_acc: 0.9973\n",
      "Epoch 23/30\n",
      "878/878 [==============================] - 53s 60ms/step - loss: 2.3520e-05 - acc: 0.9987 - val_loss: 5.3585e-05 - val_acc: 0.9974\n",
      "Epoch 24/30\n",
      "878/878 [==============================] - 53s 60ms/step - loss: 9.2352e-06 - acc: 0.9995 - val_loss: 1.7242e-05 - val_acc: 0.9983\n",
      "Epoch 25/30\n",
      "878/878 [==============================] - 53s 60ms/step - loss: 1.1793e-05 - acc: 0.9992 - val_loss: 2.2381e-04 - val_acc: 0.9897\n",
      "Epoch 26/30\n",
      "878/878 [==============================] - 53s 60ms/step - loss: 1.8395e-05 - acc: 0.9990 - val_loss: 4.5178e-05 - val_acc: 0.9977\n",
      "Epoch 27/30\n",
      "878/878 [==============================] - 52s 60ms/step - loss: 1.5125e-05 - acc: 0.9993 - val_loss: 7.0535e-05 - val_acc: 0.9956\n",
      "Epoch 28/30\n",
      "878/878 [==============================] - 53s 60ms/step - loss: 1.3217e-05 - acc: 0.9989 - val_loss: 1.0469e-04 - val_acc: 0.9932\n",
      "Epoch 29/30\n",
      "878/878 [==============================] - 53s 60ms/step - loss: 1.5911e-05 - acc: 0.9994 - val_loss: 1.2077e-04 - val_acc: 0.9938\n",
      "Epoch 30/30\n",
      "878/878 [==============================] - 53s 61ms/step - loss: 1.0946e-05 - acc: 0.9992 - val_loss: 4.0705e-05 - val_acc: 0.9980\n"
     ]
    }
   ],
   "source": [
    "with tf.device('/device:GPU:0'):\n",
    "    hist = model.fit(X_train, Y_train, epochs = 30, batch_size =32,validation_data=(X_test, Y_test))"
   ]
  },
  {
   "cell_type": "code",
   "execution_count": 42,
   "metadata": {},
   "outputs": [
    {
     "name": "stdout",
     "output_type": "stream",
     "text": [
      "376/376 [==============================] - 6s 15ms/step - loss: 4.0705e-05 - acc: 0.9980: 1s - loss: 4.3695e-05 - ac - ETA: 0s - loss: 4.1801e-05 - \n"
     ]
    },
    {
     "data": {
      "text/plain": [
       "[4.070542854606174e-05, 0.9980053305625916]"
      ]
     },
     "execution_count": 42,
     "metadata": {},
     "output_type": "execute_result"
    }
   ],
   "source": [
    "model.evaluate(X_test, Y_test)\n"
   ]
  },
  {
   "cell_type": "code",
   "execution_count": 43,
   "metadata": {},
   "outputs": [
    {
     "name": "stderr",
     "output_type": "stream",
     "text": [
      "C:\\Users\\cyber\\anaconda3\\envs\\tensor\\lib\\site-packages\\keras\\utils\\generic_utils.py:494: CustomMaskWarning: Custom mask layers require a config and must override get_config. When loading, the custom mask layer must be passed to the custom_objects argument.\n",
      "  warnings.warn('Custom mask layers require a config and must override '\n"
     ]
    }
   ],
   "source": [
    "model.save('model.h5')"
   ]
  },
  {
   "cell_type": "code",
   "execution_count": 44,
   "metadata": {},
   "outputs": [
    {
     "name": "stdout",
     "output_type": "stream",
     "text": [
      "INFO:tensorflow:Assets written to: ./pb\\assets\n"
     ]
    },
    {
     "name": "stderr",
     "output_type": "stream",
     "text": [
      "C:\\Users\\cyber\\anaconda3\\envs\\tensor\\lib\\site-packages\\keras\\utils\\generic_utils.py:494: CustomMaskWarning: Custom mask layers require a config and must override get_config. When loading, the custom mask layer must be passed to the custom_objects argument.\n",
      "  warnings.warn('Custom mask layers require a config and must override '\n"
     ]
    }
   ],
   "source": [
    "export_path = './pb'\n",
    "model.save(export_path, save_format=\"tf\")"
   ]
  },
  {
   "cell_type": "code",
   "execution_count": 45,
   "metadata": {},
   "outputs": [],
   "source": [
    "import os\n",
    "TF_PATH = \"./pb/saved_model.pb\" # where the forzen graph is stored\n",
    "TFLITE_PATH = \"./my_model.tflite\"\n",
    "# protopuf needs your virtual environment to be explictly exported in the path\n",
    "os.environ[\"PATH\"] = \"./\"\n",
    "\n",
    "# make a converter object from the saved tensorflow file\n",
    "converter = tf.lite.TFLiteConverter.from_saved_model(\"./pb\")\n",
    "\n",
    "# tell converter which type of optimization techniques to use\n",
    "# to view the best option for optimization read documentation of tflite about optimization\n",
    "# go to this link https://www.tensorflow.org/lite/guide/get_started#4_optimize_your_model_optional\n",
    "# converter.optimizations = [tf.compat.v1.lite.Optimize.DEFAULT]\n",
    "\n",
    "converter.experimental_new_converter = True\n",
    "\n",
    "# I had to explicitly state the ops\n",
    "converter.target_spec.supported_ops = [tf.compat.v1.lite.OpsSet.TFLITE_BUILTINS,\n",
    "                                       tf.compat.v1.lite.OpsSet.SELECT_TF_OPS]\n",
    "\n",
    "tf_lite_model = converter.convert()\n",
    "# Save the model.\n",
    "with open(TFLITE_PATH, 'wb') as f:\n",
    "    f.write(tf_lite_model)"
   ]
  },
  {
   "cell_type": "code",
   "execution_count": null,
   "metadata": {},
   "outputs": [],
   "source": [
    "from PIL import Image\n",
    "import os, glob, numpy as np\n",
    "from keras.models import load_model\n",
    "from pathlib import Path\n",
    "caltech_dir = './split/input4'\n",
    "image_w = 64\n",
    "image_h = 64\n",
    "\n",
    "pixels = image_h * image_w * 3\n",
    "\n",
    "X = []\n",
    "filenames = []\n",
    "files = glob.glob(caltech_dir+\"/*.*\")\n",
    "for i, f in enumerate(files):\n",
    "    img = Image.open(f)\n",
    "    img = img.convert(\"RGB\")\n",
    "    img = img.resize((image_w, image_h))\n",
    "    data = np.asarray(img)\n",
    "    filenames.append(f)\n",
    "    X.append(data)\n",
    "\n",
    "X = np.array(X)\n",
    "\n",
    "count=0\n",
    "prediction = model.predict(X)\n",
    "np.set_printoptions(formatter={'float': lambda x: \"{0:0.3f}\".format(x)})\n",
    "cnt = 0\n",
    "per=0\n",
    "#이 비교는 그냥 파일들이 있으면 해당 파일과 비교. 카테고리와 함께 비교해서 진행하는 것은 _4 파일.\n",
    "for i in prediction:\n",
    "    pre_ans = i.argmax()  # 예측 레이블\n",
    "\n",
    "    \n",
    "    file_name=os.path.basename(filenames[cnt])\n",
    "    result=os.path.splitext(file_name)\n",
    "\n",
    "    predict_name=categories[pre_ans]\n",
    "    if(result[0]==categories[pre_ans]):\n",
    "        per+=1\n",
    "    else : \n",
    "        print(categories[pre_ans])\n",
    "        print(result[0])\n",
    "        print(\"\\n\")\n",
    "    cnt += 1\n",
    "   \n"
   ]
  },
  {
   "cell_type": "code",
   "execution_count": 47,
   "metadata": {},
   "outputs": [
    {
     "name": "stdout",
     "output_type": "stream",
     "text": [
      "983\n"
     ]
    }
   ],
   "source": [
    "print(per)"
   ]
  },
  {
   "cell_type": "code",
   "execution_count": null,
   "metadata": {},
   "outputs": [],
   "source": [
    "import os\n",
    "import pandas as pd\n",
    "i=0\n",
    "forders=os.listdir('./ML/1/')\n",
    "df_all = pd.DataFrame() \n",
    "for files in forders:\n",
    "    file_name='./ML/1/'+files\n",
    "    df= pd.read_csv(file_name)\n",
    "    if(i%2==0) :\n",
    "        df_all=pd.concat([df_all,df],join='outer')\n",
    "    print(i)\n",
    "    i+=1"
   ]
  },
  {
   "cell_type": "code",
   "execution_count": null,
   "metadata": {},
   "outputs": [],
   "source": [
    "df_all.to_csv('sample1.csv') #엑셀로 저장"
   ]
  },
  {
   "cell_type": "code",
   "execution_count": 22,
   "metadata": {},
   "outputs": [
    {
     "data": {
      "text/html": [
       "<div>\n",
       "<style scoped>\n",
       "    .dataframe tbody tr th:only-of-type {\n",
       "        vertical-align: middle;\n",
       "    }\n",
       "\n",
       "    .dataframe tbody tr th {\n",
       "        vertical-align: top;\n",
       "    }\n",
       "\n",
       "    .dataframe thead th {\n",
       "        text-align: right;\n",
       "    }\n",
       "</style>\n",
       "<table border=\"1\" class=\"dataframe\">\n",
       "  <thead>\n",
       "    <tr style=\"text-align: right;\">\n",
       "      <th></th>\n",
       "      <th>OpenAction</th>\n",
       "      <th>OpenAction.1</th>\n",
       "      <th>JS</th>\n",
       "      <th>JS.1</th>\n",
       "      <th>Filter</th>\n",
       "      <th>Length</th>\n",
       "      <th>S</th>\n",
       "      <th>Type</th>\n",
       "      <th>PageLayout</th>\n",
       "      <th>Pages</th>\n",
       "      <th>...</th>\n",
       "      <th>ArialMT.1</th>\n",
       "      <th>On</th>\n",
       "      <th>On.1</th>\n",
       "      <th>On.2</th>\n",
       "      <th>On.3</th>\n",
       "      <th>A2</th>\n",
       "      <th>A6</th>\n",
       "      <th>A7</th>\n",
       "      <th>XFAImages</th>\n",
       "      <th>XFAImages.1</th>\n",
       "    </tr>\n",
       "  </thead>\n",
       "  <tbody>\n",
       "    <tr>\n",
       "      <th>0</th>\n",
       "      <td>0.0</td>\n",
       "      <td>0.0</td>\n",
       "      <td>0.0</td>\n",
       "      <td>0.0</td>\n",
       "      <td>0.0</td>\n",
       "      <td>0.0</td>\n",
       "      <td>0.0</td>\n",
       "      <td>0.0</td>\n",
       "      <td>0.0</td>\n",
       "      <td>0.0</td>\n",
       "      <td>...</td>\n",
       "      <td>NaN</td>\n",
       "      <td>NaN</td>\n",
       "      <td>NaN</td>\n",
       "      <td>NaN</td>\n",
       "      <td>NaN</td>\n",
       "      <td>NaN</td>\n",
       "      <td>NaN</td>\n",
       "      <td>NaN</td>\n",
       "      <td>NaN</td>\n",
       "      <td>NaN</td>\n",
       "    </tr>\n",
       "    <tr>\n",
       "      <th>1</th>\n",
       "      <td>0.0</td>\n",
       "      <td>0.0</td>\n",
       "      <td>1.0</td>\n",
       "      <td>1.0</td>\n",
       "      <td>0.0</td>\n",
       "      <td>0.0</td>\n",
       "      <td>1.0</td>\n",
       "      <td>1.0</td>\n",
       "      <td>0.0</td>\n",
       "      <td>0.0</td>\n",
       "      <td>...</td>\n",
       "      <td>NaN</td>\n",
       "      <td>NaN</td>\n",
       "      <td>NaN</td>\n",
       "      <td>NaN</td>\n",
       "      <td>NaN</td>\n",
       "      <td>NaN</td>\n",
       "      <td>NaN</td>\n",
       "      <td>NaN</td>\n",
       "      <td>NaN</td>\n",
       "      <td>NaN</td>\n",
       "    </tr>\n",
       "    <tr>\n",
       "      <th>3</th>\n",
       "      <td>0.0</td>\n",
       "      <td>0.0</td>\n",
       "      <td>0.0</td>\n",
       "      <td>0.0</td>\n",
       "      <td>1.0</td>\n",
       "      <td>1.0</td>\n",
       "      <td>0.0</td>\n",
       "      <td>0.0</td>\n",
       "      <td>0.0</td>\n",
       "      <td>0.0</td>\n",
       "      <td>...</td>\n",
       "      <td>NaN</td>\n",
       "      <td>NaN</td>\n",
       "      <td>NaN</td>\n",
       "      <td>NaN</td>\n",
       "      <td>NaN</td>\n",
       "      <td>NaN</td>\n",
       "      <td>NaN</td>\n",
       "      <td>NaN</td>\n",
       "      <td>NaN</td>\n",
       "      <td>NaN</td>\n",
       "    </tr>\n",
       "    <tr>\n",
       "      <th>10</th>\n",
       "      <td>0.0</td>\n",
       "      <td>0.0</td>\n",
       "      <td>0.0</td>\n",
       "      <td>0.0</td>\n",
       "      <td>0.0</td>\n",
       "      <td>0.0</td>\n",
       "      <td>0.0</td>\n",
       "      <td>0.0</td>\n",
       "      <td>0.0</td>\n",
       "      <td>0.0</td>\n",
       "      <td>...</td>\n",
       "      <td>NaN</td>\n",
       "      <td>NaN</td>\n",
       "      <td>NaN</td>\n",
       "      <td>NaN</td>\n",
       "      <td>NaN</td>\n",
       "      <td>NaN</td>\n",
       "      <td>NaN</td>\n",
       "      <td>NaN</td>\n",
       "      <td>NaN</td>\n",
       "      <td>NaN</td>\n",
       "    </tr>\n",
       "    <tr>\n",
       "      <th>13</th>\n",
       "      <td>0.0</td>\n",
       "      <td>0.0</td>\n",
       "      <td>0.0</td>\n",
       "      <td>0.0</td>\n",
       "      <td>0.0</td>\n",
       "      <td>0.0</td>\n",
       "      <td>0.0</td>\n",
       "      <td>0.0</td>\n",
       "      <td>0.0</td>\n",
       "      <td>0.0</td>\n",
       "      <td>...</td>\n",
       "      <td>NaN</td>\n",
       "      <td>NaN</td>\n",
       "      <td>NaN</td>\n",
       "      <td>NaN</td>\n",
       "      <td>NaN</td>\n",
       "      <td>NaN</td>\n",
       "      <td>NaN</td>\n",
       "      <td>NaN</td>\n",
       "      <td>NaN</td>\n",
       "      <td>NaN</td>\n",
       "    </tr>\n",
       "    <tr>\n",
       "      <th>...</th>\n",
       "      <td>...</td>\n",
       "      <td>...</td>\n",
       "      <td>...</td>\n",
       "      <td>...</td>\n",
       "      <td>...</td>\n",
       "      <td>...</td>\n",
       "      <td>...</td>\n",
       "      <td>...</td>\n",
       "      <td>...</td>\n",
       "      <td>...</td>\n",
       "      <td>...</td>\n",
       "      <td>...</td>\n",
       "      <td>...</td>\n",
       "      <td>...</td>\n",
       "      <td>...</td>\n",
       "      <td>...</td>\n",
       "      <td>...</td>\n",
       "      <td>...</td>\n",
       "      <td>...</td>\n",
       "      <td>...</td>\n",
       "      <td>...</td>\n",
       "    </tr>\n",
       "    <tr>\n",
       "      <th>226</th>\n",
       "      <td>NaN</td>\n",
       "      <td>NaN</td>\n",
       "      <td>0.0</td>\n",
       "      <td>0.0</td>\n",
       "      <td>0.0</td>\n",
       "      <td>0.0</td>\n",
       "      <td>0.0</td>\n",
       "      <td>0.0</td>\n",
       "      <td>NaN</td>\n",
       "      <td>0.0</td>\n",
       "      <td>...</td>\n",
       "      <td>NaN</td>\n",
       "      <td>NaN</td>\n",
       "      <td>NaN</td>\n",
       "      <td>NaN</td>\n",
       "      <td>NaN</td>\n",
       "      <td>NaN</td>\n",
       "      <td>NaN</td>\n",
       "      <td>NaN</td>\n",
       "      <td>0.0</td>\n",
       "      <td>0.0</td>\n",
       "    </tr>\n",
       "    <tr>\n",
       "      <th>228</th>\n",
       "      <td>NaN</td>\n",
       "      <td>NaN</td>\n",
       "      <td>0.0</td>\n",
       "      <td>0.0</td>\n",
       "      <td>0.0</td>\n",
       "      <td>0.0</td>\n",
       "      <td>0.0</td>\n",
       "      <td>0.0</td>\n",
       "      <td>NaN</td>\n",
       "      <td>0.0</td>\n",
       "      <td>...</td>\n",
       "      <td>NaN</td>\n",
       "      <td>NaN</td>\n",
       "      <td>NaN</td>\n",
       "      <td>NaN</td>\n",
       "      <td>NaN</td>\n",
       "      <td>NaN</td>\n",
       "      <td>NaN</td>\n",
       "      <td>NaN</td>\n",
       "      <td>0.0</td>\n",
       "      <td>0.0</td>\n",
       "    </tr>\n",
       "    <tr>\n",
       "      <th>240</th>\n",
       "      <td>NaN</td>\n",
       "      <td>NaN</td>\n",
       "      <td>0.0</td>\n",
       "      <td>0.0</td>\n",
       "      <td>0.0</td>\n",
       "      <td>0.0</td>\n",
       "      <td>0.0</td>\n",
       "      <td>0.0</td>\n",
       "      <td>NaN</td>\n",
       "      <td>0.0</td>\n",
       "      <td>...</td>\n",
       "      <td>NaN</td>\n",
       "      <td>NaN</td>\n",
       "      <td>NaN</td>\n",
       "      <td>NaN</td>\n",
       "      <td>NaN</td>\n",
       "      <td>NaN</td>\n",
       "      <td>NaN</td>\n",
       "      <td>NaN</td>\n",
       "      <td>0.0</td>\n",
       "      <td>0.0</td>\n",
       "    </tr>\n",
       "    <tr>\n",
       "      <th>242</th>\n",
       "      <td>NaN</td>\n",
       "      <td>NaN</td>\n",
       "      <td>0.0</td>\n",
       "      <td>0.0</td>\n",
       "      <td>0.0</td>\n",
       "      <td>0.0</td>\n",
       "      <td>0.0</td>\n",
       "      <td>0.0</td>\n",
       "      <td>NaN</td>\n",
       "      <td>0.0</td>\n",
       "      <td>...</td>\n",
       "      <td>NaN</td>\n",
       "      <td>NaN</td>\n",
       "      <td>NaN</td>\n",
       "      <td>NaN</td>\n",
       "      <td>NaN</td>\n",
       "      <td>NaN</td>\n",
       "      <td>NaN</td>\n",
       "      <td>NaN</td>\n",
       "      <td>0.0</td>\n",
       "      <td>0.0</td>\n",
       "    </tr>\n",
       "    <tr>\n",
       "      <th>244</th>\n",
       "      <td>NaN</td>\n",
       "      <td>NaN</td>\n",
       "      <td>0.0</td>\n",
       "      <td>0.0</td>\n",
       "      <td>0.0</td>\n",
       "      <td>0.0</td>\n",
       "      <td>0.0</td>\n",
       "      <td>0.0</td>\n",
       "      <td>NaN</td>\n",
       "      <td>0.0</td>\n",
       "      <td>...</td>\n",
       "      <td>NaN</td>\n",
       "      <td>NaN</td>\n",
       "      <td>NaN</td>\n",
       "      <td>NaN</td>\n",
       "      <td>NaN</td>\n",
       "      <td>NaN</td>\n",
       "      <td>NaN</td>\n",
       "      <td>NaN</td>\n",
       "      <td>0.0</td>\n",
       "      <td>0.0</td>\n",
       "    </tr>\n",
       "  </tbody>\n",
       "</table>\n",
       "<p>11476 rows × 4622 columns</p>\n",
       "</div>"
      ],
      "text/plain": [
       "     OpenAction  OpenAction.1   JS  JS.1  Filter  Length    S  Type  \\\n",
       "0           0.0           0.0  0.0   0.0     0.0     0.0  0.0   0.0   \n",
       "1           0.0           0.0  1.0   1.0     0.0     0.0  1.0   1.0   \n",
       "3           0.0           0.0  0.0   0.0     1.0     1.0  0.0   0.0   \n",
       "10          0.0           0.0  0.0   0.0     0.0     0.0  0.0   0.0   \n",
       "13          0.0           0.0  0.0   0.0     0.0     0.0  0.0   0.0   \n",
       "..          ...           ...  ...   ...     ...     ...  ...   ...   \n",
       "226         NaN           NaN  0.0   0.0     0.0     0.0  0.0   0.0   \n",
       "228         NaN           NaN  0.0   0.0     0.0     0.0  0.0   0.0   \n",
       "240         NaN           NaN  0.0   0.0     0.0     0.0  0.0   0.0   \n",
       "242         NaN           NaN  0.0   0.0     0.0     0.0  0.0   0.0   \n",
       "244         NaN           NaN  0.0   0.0     0.0     0.0  0.0   0.0   \n",
       "\n",
       "     PageLayout  Pages  ...  ArialMT.1  On  On.1  On.2  On.3  A2  A6  A7  \\\n",
       "0           0.0    0.0  ...        NaN NaN   NaN   NaN   NaN NaN NaN NaN   \n",
       "1           0.0    0.0  ...        NaN NaN   NaN   NaN   NaN NaN NaN NaN   \n",
       "3           0.0    0.0  ...        NaN NaN   NaN   NaN   NaN NaN NaN NaN   \n",
       "10          0.0    0.0  ...        NaN NaN   NaN   NaN   NaN NaN NaN NaN   \n",
       "13          0.0    0.0  ...        NaN NaN   NaN   NaN   NaN NaN NaN NaN   \n",
       "..          ...    ...  ...        ...  ..   ...   ...   ...  ..  ..  ..   \n",
       "226         NaN    0.0  ...        NaN NaN   NaN   NaN   NaN NaN NaN NaN   \n",
       "228         NaN    0.0  ...        NaN NaN   NaN   NaN   NaN NaN NaN NaN   \n",
       "240         NaN    0.0  ...        NaN NaN   NaN   NaN   NaN NaN NaN NaN   \n",
       "242         NaN    0.0  ...        NaN NaN   NaN   NaN   NaN NaN NaN NaN   \n",
       "244         NaN    0.0  ...        NaN NaN   NaN   NaN   NaN NaN NaN NaN   \n",
       "\n",
       "     XFAImages  XFAImages.1  \n",
       "0          NaN          NaN  \n",
       "1          NaN          NaN  \n",
       "3          NaN          NaN  \n",
       "10         NaN          NaN  \n",
       "13         NaN          NaN  \n",
       "..         ...          ...  \n",
       "226        0.0          0.0  \n",
       "228        0.0          0.0  \n",
       "240        0.0          0.0  \n",
       "242        0.0          0.0  \n",
       "244        0.0          0.0  \n",
       "\n",
       "[11476 rows x 4622 columns]"
      ]
     },
     "execution_count": 22,
     "metadata": {},
     "output_type": "execute_result"
    }
   ],
   "source": [
    "df_all.drop_duplicates()"
   ]
  },
  {
   "cell_type": "code",
   "execution_count": 25,
   "metadata": {},
   "outputs": [],
   "source": [
    "df_all.to_csv('sample_dup.csv') #엑셀로 저장"
   ]
  },
  {
   "cell_type": "code",
   "execution_count": null,
   "metadata": {},
   "outputs": [],
   "source": []
  }
 ],
 "metadata": {
  "accelerator": "GPU",
  "colab": {
   "authorship_tag": "ABX9TyMTNWO3ELr+Ib2AMqtwPRDe",
   "collapsed_sections": [],
   "name": "GPU 설정.ipynb",
   "provenance": []
  },
  "kernelspec": {
   "display_name": "Python 3 (ipykernel)",
   "language": "python",
   "name": "python3"
  },
  "language_info": {
   "codemirror_mode": {
    "name": "ipython",
    "version": 3
   },
   "file_extension": ".py",
   "mimetype": "text/x-python",
   "name": "python",
   "nbconvert_exporter": "python",
   "pygments_lexer": "ipython3",
   "version": "3.8.11"
  }
 },
 "nbformat": 4,
 "nbformat_minor": 1
}
